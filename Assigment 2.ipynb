{
 "cells": [
  {
   "cell_type": "markdown",
   "id": "00a74aa8",
   "metadata": {},
   "source": [
    "1. What are the two values of the Boolean data type? How do you write them?\n",
    "Answer. True and False. The result of a Boolean expression is either true or false."
   ]
  },
  {
   "cell_type": "markdown",
   "id": "c7c13687",
   "metadata": {},
   "source": [
    "2. What are the three different types of Boolean operators?\n",
    "Answer. AND, OR, NOT. "
   ]
  },
  {
   "cell_type": "markdown",
   "id": "9b5915fc",
   "metadata": {},
   "source": [
    "3. Make a list of each Boolean operator's truth tables(i.e. every possible combination of Boolean values for the operator and what it evaluate ).\n",
    "Answer. \n",
    "\n",
    "OR \n",
    "True + True = True\n",
    "True + False = True\n",
    "False + True = True\n",
    "False + False = False\n",
    "\n",
    "AND\n",
    "True + True = True\n",
    "True + False = False\n",
    "False + True = False\n",
    "False + False = False\n",
    "\n",
    "NOT\n",
    "True = False\n",
    "False = True"
   ]
  },
  {
   "cell_type": "markdown",
   "id": "9212fa1e",
   "metadata": {},
   "source": [
    "4. What are the values of the following expressions?\n",
    "(5 > 4) and (3 == 5)\n",
    "not (5 > 4)\n",
    "(5 > 4) or (3 == 5)\n",
    "not ((5 > 4) or (3 == 5))\n",
    "(True and True) and (True == False)\n",
    "(not False) or (not True)\n",
    "\n",
    "Answer.\n",
    "False\n",
    "False\n",
    "True\n",
    "False\n",
    "False\n",
    "True"
   ]
  },
  {
   "cell_type": "markdown",
   "id": "eb60e18f",
   "metadata": {},
   "source": [
    "5. What are the six comparison operators?\n",
    "<,>,==,>=,<=, !="
   ]
  },
  {
   "cell_type": "markdown",
   "id": "6615c553",
   "metadata": {},
   "source": [
    "6. How do you tell the difference between the equal to and assignment operators?Describe a condition and when you would use one.\n",
    "Answer: = is the assignment operator and is used to assign a value to an operator. == is equal to operator and used to check the condition if a variable is equal to a value or not."
   ]
  },
  {
   "cell_type": "markdown",
   "id": "5fb97bf9",
   "metadata": {},
   "source": [
    "7. Identify the three blocks in this code:\n",
    "spam = 0\n",
    "if spam == 10:\n",
    "print('egg')\n",
    "if spam > 5:\n",
    "print('bacon')\n",
    "else:\n",
    "print('ham')\n",
    "print('spam')\n",
    "print('spam')\n",
    "    \n",
    "\n",
    "Answer. \n",
    "spam = 0\n",
    "if spam == 10:\n",
    "    print('egg')\n",
    "    if spam > 5:\n",
    "        print('bacon')\n",
    "    else:\n",
    "        print('ham')\n",
    "    print('spam')\n",
    "print('spam')"
   ]
  },
  {
   "cell_type": "markdown",
   "id": "7cc4a1e2",
   "metadata": {},
   "source": [
    "8. Write code that prints Hello if 1 is stored in spam, prints Howdy if 2 is stored in spam, and prints Greetings! if anything else is stored in spam.\n",
    "Answer.\n",
    "\n",
    "spam=int(input(\"Enter the value of spam:\"))\n",
    "if spam==1:\n",
    "    print('Hello')\n",
    "elif spam==2:\n",
    "    print('Howdy')\n",
    "else:\n",
    "    print('Greetings')"
   ]
  },
  {
   "cell_type": "markdown",
   "id": "b8b0b136",
   "metadata": {},
   "source": [
    "9.If your programme is stuck in an endless loop, what keys you’ll press?\n",
    "Answe. We will restart the kernel."
   ]
  },
  {
   "cell_type": "markdown",
   "id": "a311e9aa",
   "metadata": {},
   "source": [
    "10. How can you tell the difference between break and continue?\n",
    "Asnwer. Break will break the loop and immedately exit out of it.\n",
    "On the other hand, the continue statement begins the next iteration of the while, enclosing for, or do loop."
   ]
  },
  {
   "cell_type": "markdown",
   "id": "d6f41e56",
   "metadata": {},
   "source": [
    "11. In a for loop, what is the difference between range(10), range(0, 10), and range(0, 10, 1)?\n",
    "Answer.\n",
    "When range() function is passed through compiler, it reads it as range(start,stop,step). It needs at least one arguement. In above case, range(10) it consider 10 as stop limit, and consider 0 as start and 1 as step as default value. When range(0,10) it takes 0 and 10 as 0 and 10 as per input and take 1 as step. In range(0, 10, 1), all the inputs are provided. In all of the above cases, it will provide same output."
   ]
  },
  {
   "cell_type": "markdown",
   "id": "61906e58",
   "metadata": {},
   "source": [
    "12. Write a short program that prints the numbers 1 to 10 using a for loop. Then write an equivalentprogram that prints the numbers 1 to 10 using a while loop.\n",
    "Answer:\n",
    "\n",
    "for i in range(1,11):\n",
    "    print(i)\n",
    "    \n",
    "i=0\n",
    "while i<10:\n",
    "    i=i+1\n",
    "    print(i)"
   ]
  },
  {
   "cell_type": "markdown",
   "id": "dd7c8069",
   "metadata": {},
   "source": [
    "13. If you had a function named bacon() inside a module named spam, how would you call it after importing spam?\n",
    "Answer: spam.module()"
   ]
  }
 ],
 "metadata": {
  "kernelspec": {
   "display_name": "Python 3 (ipykernel)",
   "language": "python",
   "name": "python3"
  },
  "language_info": {
   "codemirror_mode": {
    "name": "ipython",
    "version": 3
   },
   "file_extension": ".py",
   "mimetype": "text/x-python",
   "name": "python",
   "nbconvert_exporter": "python",
   "pygments_lexer": "ipython3",
   "version": "3.9.7"
  }
 },
 "nbformat": 4,
 "nbformat_minor": 5
}
