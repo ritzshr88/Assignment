{
 "cells": [
  {
   "cell_type": "raw",
   "id": "96e5f9e2",
   "metadata": {},
   "source": [
    "1. In the below elements which of them are values or an expression? eg:- values can be\n",
    "integer or string and expressions will be mathematical operators.\n",
    "*\n",
    "'hello' \n",
    "-87.8 \n",
    "-\n",
    "/\n",
    "+\n",
    "\n",
    "Answer a. * : Expression\n",
    "       b. 'hello' : Values\n",
    "       c. -87.8 : Values\n",
    "       d. -,/,+  : Expression"
   ]
  },
  {
   "cell_type": "markdown",
   "id": "7e259ded",
   "metadata": {},
   "source": [
    "2. What is the difference between string and variable?\n",
    "String is a group of characters. For example : 'ineuron', 'My Name is Ritesh'.\n",
    "Variable is something to which we can assign any value (string, integer, float, function, object etc)"
   ]
  },
  {
   "cell_type": "markdown",
   "id": "93a23769",
   "metadata": {},
   "source": [
    "3. Describe three different data types.\n",
    "Numeric (Integer, float, complex), Dict, Bool, Set, Strings, list, tuples"
   ]
  },
  {
   "cell_type": "markdown",
   "id": "ba66498e",
   "metadata": {},
   "source": [
    "4. What is an expression made up of? What do all expressions do?\n",
    "An expression is a combination of operators and operands that is operated to produce some other value. Operands can be values (data types) operator can be addition (+), division (/)."
   ]
  },
  {
   "cell_type": "markdown",
   "id": "7235f051",
   "metadata": {},
   "source": [
    "5. This assignment statements, like spam = 10. What is the difference between an expression and a statement?\n",
    "Assignment statement is used to assign a value to a variable. An expression is a combination of operators and operands that is operated to produce some other value."
   ]
  },
  {
   "cell_type": "markdown",
   "id": "aa102185",
   "metadata": {},
   "source": [
    "6. After running the following code, what does the variable bacon contain?\n",
    "bacon = 22\n",
    "bacon + 1\n",
    "\n",
    "Ans. 23"
   ]
  },
  {
   "cell_type": "markdown",
   "id": "b30ba8e0",
   "metadata": {},
   "source": [
    "7. What should the values of the following two terms be?\n",
    "'spam' + 'spamspam';\n",
    "'spam' * 3\n",
    "\n",
    "Ans. 'spamspamspam'\n",
    "'spamspamspam'"
   ]
  },
  {
   "cell_type": "markdown",
   "id": "a079fbab",
   "metadata": {},
   "source": [
    "8. Why is eggs a valid variable name while 100 is invalid?\n",
    "Python recognize 100 as inbuilt integer value."
   ]
  },
  {
   "cell_type": "markdown",
   "id": "6a4efc22",
   "metadata": {},
   "source": [
    "9. What three functions can be used to get the integer, floating-point number, or string version of a value?\n",
    "int() , float() , and str( )"
   ]
  },
  {
   "cell_type": "markdown",
   "id": "1ec67583",
   "metadata": {},
   "source": [
    "10. Why does this expression cause an error? How can you fix it?\n",
    "'I have eaten '+ 99 +' burritos'\n",
    "Python is treating 99 as an integer and considering characters placed in between single quotes as characters.It is giving error as it can only concatenate str (not \"int\") to str.\n",
    "This can be removed by changing '+ 99 +' to \"+ 99 +\".\n"
   ]
  }
 ],
 "metadata": {
  "kernelspec": {
   "display_name": "Python 3 (ipykernel)",
   "language": "python",
   "name": "python3"
  },
  "language_info": {
   "codemirror_mode": {
    "name": "ipython",
    "version": 3
   },
   "file_extension": ".py",
   "mimetype": "text/x-python",
   "name": "python",
   "nbconvert_exporter": "python",
   "pygments_lexer": "ipython3",
   "version": "3.9.7"
  }
 },
 "nbformat": 4,
 "nbformat_minor": 5
}
