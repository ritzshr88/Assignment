{
 "cells": [
  {
   "cell_type": "raw",
   "id": "96e5f9e2",
   "metadata": {},
   "source": [
    "1.  'hello' is a value (string)\n",
    "    6,-87.8 is a value (integer)\n",
    "    *,-,/,+ is a mathematical operator\n",
    "    \n",
    "2.  Variables are the element in which any value can be stored and used later like integer, string, list, etc\n",
    "    String are type of varible which store elements like words etc. They are enclosed in single or double quotes.\n",
    "\n",
    "4.  Expression contains contains operator and operands and is used to do some mathermatical operation like +,-,/,*.\n",
    "\n",
    "5.  Assigment statement used to assign some value to a variable. Expression contains contains operator and operands and is used to do some mathermatical operation like +,-,/,*.\n",
    "\n",
    "6.  23\n",
    "\n",
    "7. 'spamspamspam'\n",
    "   'spamspamspam'\n",
    "   \n",
    "8.  100 is an integer. By default python take it as integer if it is used without quotes. Hence eggs is a valid variable while 100 is not."
   ]
  }
 ],
 "metadata": {
  "kernelspec": {
   "display_name": "Python 3 (ipykernel)",
   "language": "python",
   "name": "python3"
  },
  "language_info": {
   "codemirror_mode": {
    "name": "ipython",
    "version": 3
   },
   "file_extension": ".py",
   "mimetype": "text/x-python",
   "name": "python",
   "nbconvert_exporter": "python",
   "pygments_lexer": "ipython3",
   "version": "3.9.7"
  }
 },
 "nbformat": 4,
 "nbformat_minor": 5
}
